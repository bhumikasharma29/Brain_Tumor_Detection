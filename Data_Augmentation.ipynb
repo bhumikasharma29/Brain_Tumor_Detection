{
 "cells": [
  {
   "cell_type": "markdown",
   "metadata": {},
   "source": [
    "# Data Augmentation"
   ]
  },
  {
   "cell_type": "markdown",
   "metadata": {},
   "source": [
    "About the data:\n",
    "The dataset consists of 2 folders: yes or no which contains 253 brain MRI images.\n",
    "The folder yes contains 155 Brain MRI Images that are tumorous and the folder no contains 98 Brain MRI Images that are non-tumorous.\n",
    "Since, the dataset is small. a technique called Data Augmentation is used to solve the data imbalance issue."
   ]
  },
  {
   "cell_type": "code",
   "execution_count": 5,
   "metadata": {},
   "outputs": [],
   "source": [
    "import tensorflow as tf\n",
    "from keras.preprocessing.image import ImageDataGenerator\n",
    "import cv2\n",
    "import imutils\n",
    "import matplotlib.pyplot as plt\n",
    "from os import listdir\n",
    "\n",
    "%matplotlib inline"
   ]
  },
  {
   "cell_type": "code",
   "execution_count": 12,
   "metadata": {},
   "outputs": [],
   "source": [
    "def augment_data(file_path, n_generated_samples, save_dir):\n",
    "\n",
    "    data_gen = ImageDataGenerator(rotation_range=10, \n",
    "                                  width_shift_range=0.1, \n",
    "                                  height_shift_range=0.1, \n",
    "                                  shear_range=0.1, \n",
    "                                  brightness_range=(0.3, 1.0),\n",
    "                                  horizontal_flip=True, \n",
    "                                  vertical_flip=True, \n",
    "                                  fill_mode='nearest')\n",
    "    \n",
    "    for filename in listdir(file_path):\n",
    "        #load the image\n",
    "        image = cv2.imread(file_path + '\\\\' + filename)\n",
    "        #reshape the image\n",
    "        image = image.reshape((1,) + image.shape)\n",
    "        #prefix the names of the generated samples\n",
    "        save_prefix = 'aug_' + filename[:-4]\n",
    "        #generate n_generated_samples images\n",
    "        i = 0\n",
    "        for batch in data_gen.flow(x = image,  batch_size = 1, save_to_dir = save_dir,\n",
    "                                      save_prefix = save_prefix, save_format = 'jpg'):\n",
    "            i += 1\n",
    "            if i > n_generated_samples:\n",
    "                break"
   ]
  },
  {
   "cell_type": "raw",
   "metadata": {},
   "source": [
    "# We note that 61% of the dataset is tumorous and 39% is non-tumourous. Therefore, to balance the data we can produce 9 new sample images for every image that belongs to 'no' class and 6 new images for every 'yes' class image"
   ]
  },
  {
   "cell_type": "code",
   "execution_count": 13,
   "metadata": {},
   "outputs": [],
   "source": [
    "augmented_data_path = 'augmented_data/'\n",
    "\n",
    "#augment data for the examples with label 'yes' representing tumorous examples\n",
    "augment_data(file_path = 'dataset/yes/', n_generated_samples = 6, save_dir = augmented_data_path + 'yes')\n",
    "#augment data for the examples with label 'no' representing non-tumorous examples\n",
    "augment_data(file_path = 'dataset/no/', n_generated_samples = 9, save_dir = augmented_data_path + 'no')\n"
   ]
  },
  {
   "cell_type": "raw",
   "metadata": {},
   "source": [
    "Let's see the number of tumorous and non-tumorous examples after data augmentation"
   ]
  },
  {
   "cell_type": "code",
   "execution_count": 14,
   "metadata": {},
   "outputs": [],
   "source": [
    "def data_summary(main_path):\n",
    "    yes_path = main_path + 'yes'\n",
    "    no_path = main_path + 'no'\n",
    "    \n",
    "    #number of files(images) that are in the folder 'yes' representing tumorous examples\n",
    "    no_of_pos = len(listdir(yes_path))\n",
    "    #number of files(images) that are in the folder 'no' representing non-tumorous examples\n",
    "    no_of_neg = len(listdir(no_path))\n",
    "    \n",
    "    total = no_of_pos + no_of_neg\n",
    "    \n",
    "    pos_perc = (no_of_pos * 100.0)/total\n",
    "    neg_perc = (no_of_neg * 100.0)/total\n",
    "    \n",
    "    print(f\"Total number of examples: {total}\")\n",
    "    print(f\"Percentage of positive examples: {pos_perc}%, Number of positive examples: {no_of_pos}\")\n",
    "    print(f\"Percentage of negative examples: {neg_perc}%, Number of negative examples: {no_of_neg}\")\n",
    "    "
   ]
  },
  {
   "cell_type": "code",
   "execution_count": 15,
   "metadata": {},
   "outputs": [
    {
     "name": "stdout",
     "output_type": "stream",
     "text": [
      "Total number of examples: 2064\n",
      "Percentage of positive examples: 52.616279069767444%, Number of positive examples: 1086\n",
      "Percentage of negative examples: 47.383720930232556%, Number of negative examples: 978\n"
     ]
    }
   ],
   "source": [
    "data_summary(augmented_data_path)"
   ]
  },
  {
   "cell_type": "raw",
   "metadata": {},
   "source": [
    "Now we will use this augmented data to train our convolutional neural network"
   ]
  }
 ],
 "metadata": {
  "kernelspec": {
   "display_name": "Python 3",
   "language": "python",
   "name": "python3"
  },
  "language_info": {
   "codemirror_mode": {
    "name": "ipython",
    "version": 3
   },
   "file_extension": ".py",
   "mimetype": "text/x-python",
   "name": "python",
   "nbconvert_exporter": "python",
   "pygments_lexer": "ipython3",
   "version": "3.7.3"
  }
 },
 "nbformat": 4,
 "nbformat_minor": 2
}
